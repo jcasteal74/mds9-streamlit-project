{
 "cells": [
  {
   "cell_type": "code",
   "execution_count": 1,
   "id": "3aa552ec-9992-4986-8350-6d1f326d1f53",
   "metadata": {},
   "outputs": [],
   "source": [
    "import pandas as pd\n",
    "import numpy as np"
   ]
  },
  {
   "cell_type": "code",
   "execution_count": 2,
   "id": "bd8507b8-22cc-4373-b72f-93acc8895399",
   "metadata": {},
   "outputs": [],
   "source": [
    "import unicodedata"
   ]
  },
  {
   "cell_type": "code",
   "execution_count": 3,
   "id": "f6c1e20c-63ab-4fd8-ab93-fc6312103d06",
   "metadata": {},
   "outputs": [],
   "source": [
    "# Función para eliminar acentos\n",
    "def eliminar_acentos(texto):\n",
    "    if isinstance(texto, str):\n",
    "        texto = unicodedata.normalize('NFKD', texto)\n",
    "        texto = ''.join([c for c in texto if not unicodedata.combining(c)])\n",
    "    return texto"
   ]
  },
  {
   "cell_type": "code",
   "execution_count": 4,
   "id": "f9e9c757-115a-483e-8aa2-65ebc390470d",
   "metadata": {},
   "outputs": [],
   "source": [
    "def comparar_listas(lista1, lista2):\n",
    "    \"\"\"\n",
    "    Compara dos listas y devuelve los elementos comunes y los elementos únicos en cada lista.\n",
    "\n",
    "    Args:\n",
    "    lista1 (list): La primera lista a comparar.\n",
    "    lista2 (list): La segunda lista a comparar.\n",
    "\n",
    "    Returns:\n",
    "    tuple: Una tupla que contiene tres listas:\n",
    "        - Elementos comunes en ambas listas.\n",
    "        - Elementos únicos en la primera lista.\n",
    "        - Elementos únicos en la segunda lista.\n",
    "    \"\"\"\n",
    "    # Convertir las listas a conjuntos para facilitar la comparación\n",
    "    set1 = set(lista1)\n",
    "    set2 = set(lista2)\n",
    "\n",
    "    # Encontrar elementos comunes\n",
    "    comunes = set1.intersection(set2)\n",
    "\n",
    "    # Encontrar elementos únicos en cada lista\n",
    "    unicos_lista1 = set1.difference(set2)\n",
    "    unicos_lista2 = set2.difference(set1)\n",
    "\n",
    "    # Convertir los resultados a listas\n",
    "    comunes = list(comunes)\n",
    "    unicos_lista1 = list(unicos_lista1)\n",
    "    unicos_lista2 = list(unicos_lista2)\n",
    "\n",
    "    return comunes, unicos_lista1, unicos_lista2"
   ]
  },
  {
   "cell_type": "code",
   "execution_count": 5,
   "id": "6ee63b56-2481-418d-8372-e3ec3cdb72f0",
   "metadata": {},
   "outputs": [],
   "source": [
    "df_flats = pd.read_excel('./data/sample-flats-madrid-synthetic-coords.xlsx', engine = 'openpyxl')"
   ]
  },
  {
   "cell_type": "code",
   "execution_count": 6,
   "id": "0025346f-c318-41e2-8237-530317d778ea",
   "metadata": {},
   "outputs": [],
   "source": [
    "df_gpd = pd.read_excel('./data/frongdf.xlsx', engine = 'openpyxl')"
   ]
  },
  {
   "cell_type": "code",
   "execution_count": null,
   "id": "94bf1d2d-d915-4c2a-8e65-4bbce04560df",
   "metadata": {},
   "outputs": [],
   "source": []
  },
  {
   "cell_type": "markdown",
   "id": "a8e93999-21eb-45e4-a627-f4b25c7ed9fa",
   "metadata": {},
   "source": [
    "#### Crear diccionario de barrios"
   ]
  },
  {
   "cell_type": "code",
   "execution_count": 7,
   "id": "525bdca5-3f71-4e8a-a8c4-0e444e8664a7",
   "metadata": {},
   "outputs": [],
   "source": [
    "df_flats['LOCATIONNAME'] = df_flats['LOCATIONNAME'].str.lower().apply(eliminar_acentos)"
   ]
  },
  {
   "cell_type": "code",
   "execution_count": 8,
   "id": "6cc694ad-6664-4d88-832a-8e508d4a4283",
   "metadata": {},
   "outputs": [],
   "source": [
    "df_gpd['NOMBRE'] = df_gpd['NOMBRE'].str.lower().apply(eliminar_acentos) "
   ]
  },
  {
   "cell_type": "code",
   "execution_count": 9,
   "id": "e4dc97d9-3bf0-4965-a167-efd5de80d1ae",
   "metadata": {},
   "outputs": [],
   "source": [
    "flats_lst = df_flats.LOCATIONNAME.unique().tolist()\n",
    "gpd_lst = df_gpd.NOMBRE.unique().tolist()"
   ]
  },
  {
   "cell_type": "code",
   "execution_count": 10,
   "id": "a9bc6ed8-5cbc-4856-9bdd-7bd5ca50647f",
   "metadata": {},
   "outputs": [],
   "source": [
    "comun, unico_flats, unico_gpd = comparar_listas(flats_lst, gpd_lst)"
   ]
  },
  {
   "cell_type": "code",
   "execution_count": 11,
   "id": "db2e9ae2-336e-483a-8d5c-58cb4f49e86f",
   "metadata": {},
   "outputs": [],
   "source": [
    "# Encontrar la longitud máxima de las listas\n",
    "max_length = max(len(unico_flats), len(unico_gpd), len(comun))\n",
    "\n",
    "# Rellenar las listas más cortas con NaN\n",
    "unico_flats.extend([np.nan] * (max_length - len(unico_flats)))\n",
    "unico_gpd.extend([np.nan] * (max_length - len(unico_gpd)))\n",
    "comun.extend([np.nan] * (max_length - len(comun)))\n",
    "\n",
    "# Crear un diccionario a partir de las listas\n",
    "data = {\n",
    "    'comun': comun,\n",
    "    'unico_flats': unico_flats,\n",
    "    'unico_gpd': unico_gpd\n",
    "}\n",
    "\n",
    "# Crear el DataFrame\n",
    "df_cols = pd.DataFrame(data)"
   ]
  },
  {
   "cell_type": "markdown",
   "id": "4caeb19b-4a46-4294-936a-289870b531bf",
   "metadata": {},
   "source": [
    "#### Traducir columna de flats al glosario de barrios."
   ]
  },
  {
   "cell_type": "code",
   "execution_count": 12,
   "id": "05ef0a92-5787-4aa8-9d8a-fb0580d571f8",
   "metadata": {},
   "outputs": [],
   "source": [
    "df_diccionario = pd.read_excel('./data/dicc_gdp_flat.xlsx', engine = 'openpyxl')"
   ]
  },
  {
   "cell_type": "code",
   "execution_count": 13,
   "id": "541362be-3cb1-4579-b510-7bf53cdf06fe",
   "metadata": {},
   "outputs": [
    {
     "data": {
      "text/html": [
       "<div>\n",
       "<style scoped>\n",
       "    .dataframe tbody tr th:only-of-type {\n",
       "        vertical-align: middle;\n",
       "    }\n",
       "\n",
       "    .dataframe tbody tr th {\n",
       "        vertical-align: top;\n",
       "    }\n",
       "\n",
       "    .dataframe thead th {\n",
       "        text-align: right;\n",
       "    }\n",
       "</style>\n",
       "<table border=\"1\" class=\"dataframe\">\n",
       "  <thead>\n",
       "    <tr style=\"text-align: right;\">\n",
       "      <th></th>\n",
       "      <th>gpd</th>\n",
       "      <th>flats</th>\n",
       "    </tr>\n",
       "  </thead>\n",
       "  <tbody>\n",
       "    <tr>\n",
       "      <th>0</th>\n",
       "      <td>abrantes</td>\n",
       "      <td>abrantes</td>\n",
       "    </tr>\n",
       "  </tbody>\n",
       "</table>\n",
       "</div>"
      ],
      "text/plain": [
       "        gpd     flats\n",
       "0  abrantes  abrantes"
      ]
     },
     "execution_count": 13,
     "metadata": {},
     "output_type": "execute_result"
    }
   ],
   "source": [
    "df_diccionario.head(1)"
   ]
  },
  {
   "cell_type": "code",
   "execution_count": 14,
   "id": "5160331b-aad9-481a-8e16-31295acd39eb",
   "metadata": {},
   "outputs": [],
   "source": [
    "# Cambio todos los barrios que aparecen en flats con los datos de gdp, para ello creo el diccionario a partir del df_diccionario\n",
    "# asegurar que la columna que serán las claves no tiene nulos.\n",
    "df_filtered = df_diccionario.dropna(subset=['flats'])\n",
    "dict_flats2gpd = df_filtered.set_index('flats')['gpd'].to_dict()"
   ]
  },
  {
   "cell_type": "code",
   "execution_count": 15,
   "id": "2b3c744f-24a0-4c3e-8704-22d4394dd4ca",
   "metadata": {},
   "outputs": [],
   "source": [
    "df_flats['LOCATIONNAME'] = df_flats['LOCATIONNAME'].map(dict_flats2gpd).fillna(df_flats['LOCATIONNAME'])"
   ]
  },
  {
   "cell_type": "markdown",
   "id": "b7583e71-e344-49e7-b885-85b54ee811dc",
   "metadata": {},
   "source": [
    "#### Ahora empezamos a realizar agrupaciones"
   ]
  },
  {
   "cell_type": "code",
   "execution_count": 16,
   "id": "41059745-5aeb-4464-ad95-a4a251835648",
   "metadata": {},
   "outputs": [],
   "source": [
    "def get_median_df_byLOCATIONNAME(feature, df):\n",
    "    median_feature = df.groupby('LOCATIONNAME')[feature].median()\n",
    "    df_median_feature = median_feature.reset_index()\n",
    "    df_median_feature.columns = ['LOCATIONNAME', f\"{feature}\"]\n",
    "    return df_median_feature"
   ]
  },
  {
   "cell_type": "code",
   "execution_count": 17,
   "id": "41daf3a7-b64f-410e-a54e-70b058f90463",
   "metadata": {},
   "outputs": [
    {
     "data": {
      "text/plain": [
       "Index(['NOMBRE', 'BARRIO_MAY', 'BARRIO_MT'], dtype='object')"
      ]
     },
     "execution_count": 17,
     "metadata": {},
     "output_type": "execute_result"
    }
   ],
   "source": [
    "df_gpd.columns"
   ]
  },
  {
   "cell_type": "code",
   "execution_count": 18,
   "id": "da16be7b-ba9e-4406-ba89-685807c1c0ac",
   "metadata": {},
   "outputs": [
    {
     "data": {
      "text/html": [
       "<div>\n",
       "<style scoped>\n",
       "    .dataframe tbody tr th:only-of-type {\n",
       "        vertical-align: middle;\n",
       "    }\n",
       "\n",
       "    .dataframe tbody tr th {\n",
       "        vertical-align: top;\n",
       "    }\n",
       "\n",
       "    .dataframe thead th {\n",
       "        text-align: right;\n",
       "    }\n",
       "</style>\n",
       "<table border=\"1\" class=\"dataframe\">\n",
       "  <thead>\n",
       "    <tr style=\"text-align: right;\">\n",
       "      <th></th>\n",
       "      <th>LOCATIONNAME</th>\n",
       "      <th>PRICE</th>\n",
       "    </tr>\n",
       "  </thead>\n",
       "  <tbody>\n",
       "    <tr>\n",
       "      <th>0</th>\n",
       "      <td>abrantes</td>\n",
       "      <td>141000.0</td>\n",
       "    </tr>\n",
       "    <tr>\n",
       "      <th>1</th>\n",
       "      <td>acacias</td>\n",
       "      <td>333000.0</td>\n",
       "    </tr>\n",
       "    <tr>\n",
       "      <th>2</th>\n",
       "      <td>adelfas</td>\n",
       "      <td>370000.0</td>\n",
       "    </tr>\n",
       "    <tr>\n",
       "      <th>3</th>\n",
       "      <td>aeropuerto</td>\n",
       "      <td>120000.0</td>\n",
       "    </tr>\n",
       "    <tr>\n",
       "      <th>4</th>\n",
       "      <td>aguilas</td>\n",
       "      <td>153000.0</td>\n",
       "    </tr>\n",
       "    <tr>\n",
       "      <th>...</th>\n",
       "      <td>...</td>\n",
       "      <td>...</td>\n",
       "    </tr>\n",
       "    <tr>\n",
       "      <th>131</th>\n",
       "      <td>ventas</td>\n",
       "      <td>176000.0</td>\n",
       "    </tr>\n",
       "    <tr>\n",
       "      <th>132</th>\n",
       "      <td>vinateros</td>\n",
       "      <td>174500.0</td>\n",
       "    </tr>\n",
       "    <tr>\n",
       "      <th>133</th>\n",
       "      <td>virgen del cortijo - manoteras</td>\n",
       "      <td>330500.0</td>\n",
       "    </tr>\n",
       "    <tr>\n",
       "      <th>134</th>\n",
       "      <td>vista alegre</td>\n",
       "      <td>154000.0</td>\n",
       "    </tr>\n",
       "    <tr>\n",
       "      <th>135</th>\n",
       "      <td>zofio</td>\n",
       "      <td>135000.0</td>\n",
       "    </tr>\n",
       "  </tbody>\n",
       "</table>\n",
       "<p>136 rows × 2 columns</p>\n",
       "</div>"
      ],
      "text/plain": [
       "                       LOCATIONNAME     PRICE\n",
       "0                          abrantes  141000.0\n",
       "1                           acacias  333000.0\n",
       "2                           adelfas  370000.0\n",
       "3                        aeropuerto  120000.0\n",
       "4                           aguilas  153000.0\n",
       "..                              ...       ...\n",
       "131                          ventas  176000.0\n",
       "132                       vinateros  174500.0\n",
       "133  virgen del cortijo - manoteras  330500.0\n",
       "134                    vista alegre  154000.0\n",
       "135                           zofio  135000.0\n",
       "\n",
       "[136 rows x 2 columns]"
      ]
     },
     "execution_count": 18,
     "metadata": {},
     "output_type": "execute_result"
    }
   ],
   "source": [
    "get_median_df_byLOCATIONNAME('PRICE', df_flats)"
   ]
  },
  {
   "cell_type": "code",
   "execution_count": null,
   "id": "78c5879b-7ec8-46a3-bb56-d238ce6e1e7f",
   "metadata": {},
   "outputs": [],
   "source": []
  },
  {
   "cell_type": "code",
   "execution_count": null,
   "id": "3b58de32-01f2-4bfe-af6f-d419dee27b3e",
   "metadata": {},
   "outputs": [],
   "source": []
  },
  {
   "cell_type": "code",
   "execution_count": null,
   "id": "b2b3c1de-ac18-4eda-acc8-b131a23e526c",
   "metadata": {},
   "outputs": [],
   "source": []
  },
  {
   "cell_type": "code",
   "execution_count": null,
   "id": "278049aa-f430-4058-acac-f6e4824e6216",
   "metadata": {},
   "outputs": [],
   "source": []
  },
  {
   "cell_type": "code",
   "execution_count": null,
   "id": "51e00366-2494-4e69-8928-af1b96f92af9",
   "metadata": {},
   "outputs": [],
   "source": []
  },
  {
   "cell_type": "code",
   "execution_count": null,
   "id": "63796902-1638-4e94-87e3-9abad16ba0f4",
   "metadata": {},
   "outputs": [],
   "source": [
    "median_bathnumber = df_flats.groupby('LOCATIONNAME')['BATHNUMBER'].median()\n",
    "\n",
    "# Convertimos el resultado en un DataFrame\n",
    "df_median_bathnumber = median_bathnumber.reset_index()\n",
    "\n",
    "# Renombramos las columnas para mayor claridad\n",
    "df_median_bathnumber.columns = ['LOCATIONNAME', 'MEDIAN_BATHNUMBER']"
   ]
  },
  {
   "cell_type": "code",
   "execution_count": null,
   "id": "bd413204-9c04-4951-bb3b-e65aa28d68ac",
   "metadata": {},
   "outputs": [],
   "source": [
    "df_flats.columns"
   ]
  },
  {
   "cell_type": "code",
   "execution_count": null,
   "id": "16e9948c-52ab-48b9-9a01-26e3bcfa6f6d",
   "metadata": {},
   "outputs": [],
   "source": []
  }
 ],
 "metadata": {
  "kernelspec": {
   "display_name": "Python 3 (ipykernel)",
   "language": "python",
   "name": "python3"
  },
  "language_info": {
   "codemirror_mode": {
    "name": "ipython",
    "version": 3
   },
   "file_extension": ".py",
   "mimetype": "text/x-python",
   "name": "python",
   "nbconvert_exporter": "python",
   "pygments_lexer": "ipython3",
   "version": "3.10.12"
  }
 },
 "nbformat": 4,
 "nbformat_minor": 5
}

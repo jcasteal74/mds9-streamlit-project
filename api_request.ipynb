{
 "cells": [
  {
   "cell_type": "markdown",
   "id": "d685891e-700c-4684-a29b-8995c9c58fa6",
   "metadata": {},
   "source": [
    "### Programa para obtener datos de idealista  \n",
    "El programa te permite elegir comunidad autónoma, provincia y localidad.  \n",
    "Después te solicita el radio de búsqueda.  \n",
    "Finalmente te vuelca la consulta en un fichero xlsx."
   ]
  },
  {
   "cell_type": "code",
   "execution_count": 2,
   "id": "f2298e27-2791-4803-b167-bd1b999a6a9a",
   "metadata": {},
   "outputs": [],
   "source": [
    "import pandas as pd\n",
    "import json\n",
    "import urllib\n",
    "import requests as rq\n",
    "import base64"
   ]
  },
  {
   "cell_type": "code",
   "execution_count": 3,
   "id": "6a4e7812-02fc-4c24-bc6f-9ed758b17acf",
   "metadata": {},
   "outputs": [],
   "source": [
    "import ipywidgets as widgets\n",
    "from IPython.display import display"
   ]
  },
  {
   "cell_type": "code",
   "execution_count": 4,
   "id": "2485b079-f7c8-4cc0-a853-a797ea69fbf1",
   "metadata": {},
   "outputs": [],
   "source": [
    "def obtener_coordenadas(df,localidad):\n",
    "    df_filtrado = df[df['Población'] == localidad]\n",
    "    latitud = df_filtrado['Latitud'].values[0]\n",
    "    longitud = df_filtrado['Longitud'].values[0]\n",
    "    return latitud, longitud  "
   ]
  },
  {
   "cell_type": "code",
   "execution_count": 6,
   "id": "7ae8b598-935c-4830-886a-00c1b1ab4205",
   "metadata": {},
   "outputs": [],
   "source": [
    "def get_oauth_token(): \n",
    "\n",
    "    url = \"https://api.idealista.com/oauth/token\"    \n",
    "\n",
    "    apikey= 'vlokpni9yqgvkjkrygzpfpsf6skfdt49' #sent by idealista\n",
    "    secret= 'hyiDSleWFr29'  #sent by idealista\n",
    "    apikey_secret = apikey + ':' + secret\n",
    "    auth = str(base64.b64encode(bytes(apikey_secret, 'utf-8')))[2:][:-1]\n",
    "\n",
    "    headers = {'Authorization' : 'Basic ' + auth,'Content-Type': 'application/x-www-form-urlencoded;charset=UTF-8'}\n",
    "    params = urllib.parse.urlencode({'grant_type':'client_credentials'}) #,'scope':'read'\n",
    "    content = rq.post(url,headers = headers, params=params)\n",
    "    bearer_token = json.loads(content.text)['access_token']\n",
    "\n",
    "    return bearer_token"
   ]
  },
  {
   "cell_type": "code",
   "execution_count": 7,
   "id": "4a563b90-284e-48cc-92f3-1a402676f790",
   "metadata": {},
   "outputs": [],
   "source": [
    "def search_api(token, URL):  \n",
    "    headers = {'Content-Type': 'Content-Type: multipart/form-data;', 'Authorization' : 'Bearer ' + token}\n",
    "    content = rq.post(url, headers = headers)\n",
    "    result = json.loads(content.text)\n",
    "    return result"
   ]
  },
  {
   "cell_type": "code",
   "execution_count": 8,
   "id": "70b49179-cecb-443c-8e24-ea21cbaebe36",
   "metadata": {},
   "outputs": [],
   "source": [
    "# Función para actualizar las opciones de la lista desplegable de la Provincia\n",
    "def update_provincias(*args):\n",
    "    df_filtrado = df[df['Comunidad'] == comunidad_dropdown.value]\n",
    "    provincias = df_filtrado['Provincia'].unique()\n",
    "    provincia_dropdown.options = provincias"
   ]
  },
  {
   "cell_type": "code",
   "execution_count": 9,
   "id": "390f67f0-9500-4ebc-800a-36959572bd4f",
   "metadata": {},
   "outputs": [],
   "source": [
    "# Función para actualizar las opciones de la lista desplegable de la Población\n",
    "def update_poblaciones(*args):\n",
    "    df_filtrado = df[(df['Comunidad'] == comunidad_dropdown.value) & (df['Provincia'] == provincia_dropdown.value)]\n",
    "    poblaciones = df_filtrado['Población'].unique()\n",
    "    poblacion_dropdown.options = poblaciones"
   ]
  },
  {
   "cell_type": "code",
   "execution_count": 10,
   "id": "0cb23163-d541-4a71-a2f4-a6335fbfe551",
   "metadata": {},
   "outputs": [],
   "source": [
    "def crear_slider_radio():\n",
    "    # Crea un slider para seleccionar los kilómetros de radio\n",
    "    radio_slider = widgets.IntSlider(\n",
    "        value=10,  # valor inicial\n",
    "        min=5,  # valor mínimo\n",
    "        max=50,  # valor máximo\n",
    "        step=5,  # incremento\n",
    "        description='Radio (km):',\n",
    "        continuous_update=False\n",
    "    )\n",
    "    return radio_slider"
   ]
  },
  {
   "cell_type": "code",
   "execution_count": 11,
   "id": "ba433385-1fdc-4e0c-9539-94981050cab4",
   "metadata": {},
   "outputs": [],
   "source": [
    "df = pd.read_excel(\"./data/municipios_esp.xlsx\", engine = \"openpyxl\")"
   ]
  },
  {
   "cell_type": "code",
   "execution_count": 12,
   "id": "75d62d5e-d77e-465a-bf83-19de2a16eb5b",
   "metadata": {},
   "outputs": [
    {
     "data": {
      "application/vnd.jupyter.widget-view+json": {
       "model_id": "90a47906e93d419daeb7ce32f00f1c5a",
       "version_major": 2,
       "version_minor": 0
      },
      "text/plain": [
       "Dropdown(options=('Andalucía', 'Aragón', 'Asturias', 'Canarias', 'Cantabria', 'Castilla La Mancha', 'Castilla …"
      ]
     },
     "metadata": {},
     "output_type": "display_data"
    },
    {
     "data": {
      "application/vnd.jupyter.widget-view+json": {
       "model_id": "d3b6be448b3b4970b20f09bc7d78bbdd",
       "version_major": 2,
       "version_minor": 0
      },
      "text/plain": [
       "Dropdown(options=(), value=None)"
      ]
     },
     "metadata": {},
     "output_type": "display_data"
    },
    {
     "data": {
      "application/vnd.jupyter.widget-view+json": {
       "model_id": "6a2e701282ae4b698615978fdb4a322e",
       "version_major": 2,
       "version_minor": 0
      },
      "text/plain": [
       "Dropdown(options=(), value=None)"
      ]
     },
     "metadata": {},
     "output_type": "display_data"
    }
   ],
   "source": [
    "# Crea una lista desplegable para la Comunidad Autónoma\n",
    "comunidades = df['Comunidad'].unique()\n",
    "comunidad_dropdown = widgets.Dropdown(options=comunidades)\n",
    "display(comunidad_dropdown)\n",
    "\n",
    "# Crea una lista desplegable para la Provincia\n",
    "provincia_dropdown = widgets.Dropdown(options=[])\n",
    "display(provincia_dropdown)\n",
    "\n",
    "# Crea una lista desplegable para la Población\n",
    "poblacion_dropdown = widgets.Dropdown(options=[])\n",
    "display(poblacion_dropdown)\n",
    "\n",
    "comunidad_dropdown.observe(update_provincias, 'value')\n",
    "provincia_dropdown.observe(update_poblaciones, 'value')\n",
    "\n",
    "# Llama a las funciones para inicializar las listas desplegables\n",
    "update_provincias()\n",
    "update_poblaciones()"
   ]
  },
  {
   "cell_type": "code",
   "execution_count": 13,
   "id": "b292f2bf-e0dd-4f17-b139-3b35ed3871ff",
   "metadata": {},
   "outputs": [
    {
     "data": {
      "application/vnd.jupyter.widget-view+json": {
       "model_id": "027b75e4bff84fc7a2f005ac554084ce",
       "version_major": 2,
       "version_minor": 0
      },
      "text/plain": [
       "IntSlider(value=10, continuous_update=False, description='Radio (km):', max=50, min=5, step=5)"
      ]
     },
     "metadata": {},
     "output_type": "display_data"
    }
   ],
   "source": [
    "# Crea y muestra el slider\n",
    "slider = crear_slider_radio()\n",
    "display(slider)"
   ]
  },
  {
   "cell_type": "code",
   "execution_count": 14,
   "id": "d210a490-e59f-485e-8ad2-b897c011c892",
   "metadata": {},
   "outputs": [],
   "source": [
    "latitud, longitud = obtener_coordenadas(df, poblacion_dropdown.value)"
   ]
  },
  {
   "cell_type": "code",
   "execution_count": 15,
   "id": "11b313fb-311d-43ec-8922-ace861433cfe",
   "metadata": {},
   "outputs": [],
   "source": [
    "country = 'es' #values: es, it, pt\n",
    "locale = 'es' #values: es, it, pt, en, ca\n",
    "language = 'es' #\n",
    "max_items = '50'\n",
    "operation = 'sale' \n",
    "property_type = 'homes'\n",
    "order = 'priceDown' \n",
    "center = f'{latitud},{longitud}'\n",
    "distance = f'{slider.value*1000}'\n",
    "sort = 'desc'\n",
    "bankOffer = 'false'"
   ]
  },
  {
   "cell_type": "code",
   "execution_count": 16,
   "id": "3273bb73-7c37-4ec4-9cd4-f7ccb87bf1c2",
   "metadata": {},
   "outputs": [],
   "source": [
    "country = 'es' #values: es, it, pt\n",
    "locale = 'es' #values: es, it, pt, en, ca\n",
    "language = 'es' #\n",
    "max_items = '50'\n",
    "operation = 'rent' \n",
    "property_type = 'homes'\n",
    "order = 'priceDown' \n",
    "center = f'{latitud},{longitud}'\n",
    "distance = f'{slider.value*1000}'\n",
    "sort = 'desc'\n",
    "bankOffer = 'false'"
   ]
  },
  {
   "cell_type": "code",
   "execution_count": 16,
   "id": "533c2d51-36ee-45a6-8b43-d553d6912851",
   "metadata": {},
   "outputs": [
    {
     "name": "stdout",
     "output_type": "stream",
     "text": [
      "37.44359,-4.273436-Carcabuey-radio:20000 metros\n"
     ]
    }
   ],
   "source": [
    "print(f'{center}-{poblacion_dropdown.value}-radio:{distance} metros')"
   ]
  },
  {
   "cell_type": "code",
   "execution_count": 17,
   "id": "4a04f4a5-811b-4c12-bca8-edacd6654e98",
   "metadata": {},
   "outputs": [],
   "source": [
    "df_tot = pd.DataFrame()\n",
    "limit = 10"
   ]
  },
  {
   "cell_type": "code",
   "execution_count": 18,
   "id": "11a265bd-e832-4291-a758-838d519152f7",
   "metadata": {},
   "outputs": [
    {
     "ename": "JSONDecodeError",
     "evalue": "Expecting value: line 1 column 1 (char 0)",
     "output_type": "error",
     "traceback": [
      "\u001b[0;31m---------------------------------------------------------------------------\u001b[0m",
      "\u001b[0;31mJSONDecodeError\u001b[0m                           Traceback (most recent call last)",
      "Cell \u001b[0;32mIn[18], line 11\u001b[0m\n\u001b[1;32m      1\u001b[0m \u001b[38;5;28;01mfor\u001b[39;00m i \u001b[38;5;129;01min\u001b[39;00m \u001b[38;5;28mrange\u001b[39m(\u001b[38;5;241m1\u001b[39m,limit):\n\u001b[1;32m      2\u001b[0m     url \u001b[38;5;241m=\u001b[39m (\u001b[38;5;124m'\u001b[39m\u001b[38;5;124mhttps://api.idealista.com/3.5/\u001b[39m\u001b[38;5;124m'\u001b[39m\u001b[38;5;241m+\u001b[39mcountry\u001b[38;5;241m+\u001b[39m\u001b[38;5;124m'\u001b[39m\u001b[38;5;124m/search?operation=\u001b[39m\u001b[38;5;124m'\u001b[39m\u001b[38;5;241m+\u001b[39moperation\u001b[38;5;241m+\u001b[39m\u001b[38;5;66;03m#\"&locale=\"+locale+\u001b[39;00m\n\u001b[1;32m      3\u001b[0m            \u001b[38;5;124m'\u001b[39m\u001b[38;5;124m&maxItems=\u001b[39m\u001b[38;5;124m'\u001b[39m\u001b[38;5;241m+\u001b[39mmax_items\u001b[38;5;241m+\u001b[39m\n\u001b[1;32m      4\u001b[0m            \u001b[38;5;124m'\u001b[39m\u001b[38;5;124m&order=\u001b[39m\u001b[38;5;124m'\u001b[39m\u001b[38;5;241m+\u001b[39morder\u001b[38;5;241m+\u001b[39m\n\u001b[0;32m   (...)\u001b[0m\n\u001b[1;32m      9\u001b[0m            \u001b[38;5;124m'\u001b[39m\u001b[38;5;124m&numPage=\u001b[39m\u001b[38;5;132;01m%s\u001b[39;00m\u001b[38;5;124m'\u001b[39m\u001b[38;5;241m+\u001b[39m\n\u001b[1;32m     10\u001b[0m            \u001b[38;5;124m'\u001b[39m\u001b[38;5;124m&language=\u001b[39m\u001b[38;5;124m'\u001b[39m\u001b[38;5;241m+\u001b[39mlanguage) \u001b[38;5;241m%\u001b[39m(i)  \n\u001b[0;32m---> 11\u001b[0m     a \u001b[38;5;241m=\u001b[39m \u001b[43msearch_api\u001b[49m\u001b[43m(\u001b[49m\u001b[43mget_oauth_token\u001b[49m\u001b[43m(\u001b[49m\u001b[43m)\u001b[49m\u001b[43m,\u001b[49m\u001b[43m \u001b[49m\u001b[43murl\u001b[49m\u001b[43m)\u001b[49m\n\u001b[1;32m     12\u001b[0m     df \u001b[38;5;241m=\u001b[39m pd\u001b[38;5;241m.\u001b[39mDataFrame\u001b[38;5;241m.\u001b[39mfrom_dict(a[\u001b[38;5;124m'\u001b[39m\u001b[38;5;124melementList\u001b[39m\u001b[38;5;124m'\u001b[39m])\n\u001b[1;32m     13\u001b[0m     df_tot \u001b[38;5;241m=\u001b[39m pd\u001b[38;5;241m.\u001b[39mconcat([df_tot,df])\n",
      "Cell \u001b[0;32mIn[7], line 4\u001b[0m, in \u001b[0;36msearch_api\u001b[0;34m(token, URL)\u001b[0m\n\u001b[1;32m      2\u001b[0m headers \u001b[38;5;241m=\u001b[39m {\u001b[38;5;124m'\u001b[39m\u001b[38;5;124mContent-Type\u001b[39m\u001b[38;5;124m'\u001b[39m: \u001b[38;5;124m'\u001b[39m\u001b[38;5;124mContent-Type: multipart/form-data;\u001b[39m\u001b[38;5;124m'\u001b[39m, \u001b[38;5;124m'\u001b[39m\u001b[38;5;124mAuthorization\u001b[39m\u001b[38;5;124m'\u001b[39m : \u001b[38;5;124m'\u001b[39m\u001b[38;5;124mBearer \u001b[39m\u001b[38;5;124m'\u001b[39m \u001b[38;5;241m+\u001b[39m token}\n\u001b[1;32m      3\u001b[0m content \u001b[38;5;241m=\u001b[39m rq\u001b[38;5;241m.\u001b[39mpost(url, headers \u001b[38;5;241m=\u001b[39m headers)\n\u001b[0;32m----> 4\u001b[0m result \u001b[38;5;241m=\u001b[39m \u001b[43mjson\u001b[49m\u001b[38;5;241;43m.\u001b[39;49m\u001b[43mloads\u001b[49m\u001b[43m(\u001b[49m\u001b[43mcontent\u001b[49m\u001b[38;5;241;43m.\u001b[39;49m\u001b[43mtext\u001b[49m\u001b[43m)\u001b[49m\n\u001b[1;32m      5\u001b[0m \u001b[38;5;28;01mreturn\u001b[39;00m result\n",
      "File \u001b[0;32m/usr/lib/python3.10/json/__init__.py:346\u001b[0m, in \u001b[0;36mloads\u001b[0;34m(s, cls, object_hook, parse_float, parse_int, parse_constant, object_pairs_hook, **kw)\u001b[0m\n\u001b[1;32m    341\u001b[0m     s \u001b[38;5;241m=\u001b[39m s\u001b[38;5;241m.\u001b[39mdecode(detect_encoding(s), \u001b[38;5;124m'\u001b[39m\u001b[38;5;124msurrogatepass\u001b[39m\u001b[38;5;124m'\u001b[39m)\n\u001b[1;32m    343\u001b[0m \u001b[38;5;28;01mif\u001b[39;00m (\u001b[38;5;28mcls\u001b[39m \u001b[38;5;129;01mis\u001b[39;00m \u001b[38;5;28;01mNone\u001b[39;00m \u001b[38;5;129;01mand\u001b[39;00m object_hook \u001b[38;5;129;01mis\u001b[39;00m \u001b[38;5;28;01mNone\u001b[39;00m \u001b[38;5;129;01mand\u001b[39;00m\n\u001b[1;32m    344\u001b[0m         parse_int \u001b[38;5;129;01mis\u001b[39;00m \u001b[38;5;28;01mNone\u001b[39;00m \u001b[38;5;129;01mand\u001b[39;00m parse_float \u001b[38;5;129;01mis\u001b[39;00m \u001b[38;5;28;01mNone\u001b[39;00m \u001b[38;5;129;01mand\u001b[39;00m\n\u001b[1;32m    345\u001b[0m         parse_constant \u001b[38;5;129;01mis\u001b[39;00m \u001b[38;5;28;01mNone\u001b[39;00m \u001b[38;5;129;01mand\u001b[39;00m object_pairs_hook \u001b[38;5;129;01mis\u001b[39;00m \u001b[38;5;28;01mNone\u001b[39;00m \u001b[38;5;129;01mand\u001b[39;00m \u001b[38;5;129;01mnot\u001b[39;00m kw):\n\u001b[0;32m--> 346\u001b[0m     \u001b[38;5;28;01mreturn\u001b[39;00m \u001b[43m_default_decoder\u001b[49m\u001b[38;5;241;43m.\u001b[39;49m\u001b[43mdecode\u001b[49m\u001b[43m(\u001b[49m\u001b[43ms\u001b[49m\u001b[43m)\u001b[49m\n\u001b[1;32m    347\u001b[0m \u001b[38;5;28;01mif\u001b[39;00m \u001b[38;5;28mcls\u001b[39m \u001b[38;5;129;01mis\u001b[39;00m \u001b[38;5;28;01mNone\u001b[39;00m:\n\u001b[1;32m    348\u001b[0m     \u001b[38;5;28mcls\u001b[39m \u001b[38;5;241m=\u001b[39m JSONDecoder\n",
      "File \u001b[0;32m/usr/lib/python3.10/json/decoder.py:337\u001b[0m, in \u001b[0;36mJSONDecoder.decode\u001b[0;34m(self, s, _w)\u001b[0m\n\u001b[1;32m    332\u001b[0m \u001b[38;5;28;01mdef\u001b[39;00m \u001b[38;5;21mdecode\u001b[39m(\u001b[38;5;28mself\u001b[39m, s, _w\u001b[38;5;241m=\u001b[39mWHITESPACE\u001b[38;5;241m.\u001b[39mmatch):\n\u001b[1;32m    333\u001b[0m \u001b[38;5;250m    \u001b[39m\u001b[38;5;124;03m\"\"\"Return the Python representation of ``s`` (a ``str`` instance\u001b[39;00m\n\u001b[1;32m    334\u001b[0m \u001b[38;5;124;03m    containing a JSON document).\u001b[39;00m\n\u001b[1;32m    335\u001b[0m \n\u001b[1;32m    336\u001b[0m \u001b[38;5;124;03m    \"\"\"\u001b[39;00m\n\u001b[0;32m--> 337\u001b[0m     obj, end \u001b[38;5;241m=\u001b[39m \u001b[38;5;28;43mself\u001b[39;49m\u001b[38;5;241;43m.\u001b[39;49m\u001b[43mraw_decode\u001b[49m\u001b[43m(\u001b[49m\u001b[43ms\u001b[49m\u001b[43m,\u001b[49m\u001b[43m \u001b[49m\u001b[43midx\u001b[49m\u001b[38;5;241;43m=\u001b[39;49m\u001b[43m_w\u001b[49m\u001b[43m(\u001b[49m\u001b[43ms\u001b[49m\u001b[43m,\u001b[49m\u001b[43m \u001b[49m\u001b[38;5;241;43m0\u001b[39;49m\u001b[43m)\u001b[49m\u001b[38;5;241;43m.\u001b[39;49m\u001b[43mend\u001b[49m\u001b[43m(\u001b[49m\u001b[43m)\u001b[49m\u001b[43m)\u001b[49m\n\u001b[1;32m    338\u001b[0m     end \u001b[38;5;241m=\u001b[39m _w(s, end)\u001b[38;5;241m.\u001b[39mend()\n\u001b[1;32m    339\u001b[0m     \u001b[38;5;28;01mif\u001b[39;00m end \u001b[38;5;241m!=\u001b[39m \u001b[38;5;28mlen\u001b[39m(s):\n",
      "File \u001b[0;32m/usr/lib/python3.10/json/decoder.py:355\u001b[0m, in \u001b[0;36mJSONDecoder.raw_decode\u001b[0;34m(self, s, idx)\u001b[0m\n\u001b[1;32m    353\u001b[0m     obj, end \u001b[38;5;241m=\u001b[39m \u001b[38;5;28mself\u001b[39m\u001b[38;5;241m.\u001b[39mscan_once(s, idx)\n\u001b[1;32m    354\u001b[0m \u001b[38;5;28;01mexcept\u001b[39;00m \u001b[38;5;167;01mStopIteration\u001b[39;00m \u001b[38;5;28;01mas\u001b[39;00m err:\n\u001b[0;32m--> 355\u001b[0m     \u001b[38;5;28;01mraise\u001b[39;00m JSONDecodeError(\u001b[38;5;124m\"\u001b[39m\u001b[38;5;124mExpecting value\u001b[39m\u001b[38;5;124m\"\u001b[39m, s, err\u001b[38;5;241m.\u001b[39mvalue) \u001b[38;5;28;01mfrom\u001b[39;00m \u001b[38;5;28;01mNone\u001b[39;00m\n\u001b[1;32m    356\u001b[0m \u001b[38;5;28;01mreturn\u001b[39;00m obj, end\n",
      "\u001b[0;31mJSONDecodeError\u001b[0m: Expecting value: line 1 column 1 (char 0)"
     ]
    }
   ],
   "source": [
    "for i in range(1,limit):\n",
    "    url = ('https://api.idealista.com/3.5/'+country+'/search?operation='+operation+#\"&locale=\"+locale+\n",
    "           '&maxItems='+max_items+\n",
    "           '&order='+order+\n",
    "           '&center='+center+\n",
    "           '&distance='+distance+\n",
    "           '&propertyType='+property_type+\n",
    "           '&sort='+sort+ \n",
    "           '&numPage=%s'+\n",
    "           '&language='+language) %(i)  \n",
    "    a = search_api(get_oauth_token(), url)\n",
    "    df = pd.DataFrame.from_dict(a['elementList'])\n",
    "    df_tot = pd.concat([df_tot,df])"
   ]
  },
  {
   "cell_type": "code",
   "execution_count": null,
   "id": "bcdf0334-6a9f-45eb-aa18-a01323e296f4",
   "metadata": {},
   "outputs": [],
   "source": [
    "df_tot = df_tot.reset_index()"
   ]
  },
  {
   "cell_type": "code",
   "execution_count": null,
   "id": "9117f59c-268b-4914-9225-baf4898c71d8",
   "metadata": {},
   "outputs": [],
   "source": [
    "df_tot.to_excel(f\"./output/{poblacion_dropdown.value}_{slider.value}.xlsx\", index = False)"
   ]
  },
  {
   "cell_type": "code",
   "execution_count": null,
   "id": "9669c800-d562-4318-8333-f7b0b0acb310",
   "metadata": {},
   "outputs": [],
   "source": [
    "df_tot.to_excel(f\"./output/rent_{poblacion_dropdown.value}_{slider.value}.xlsx\", index = False)"
   ]
  },
  {
   "cell_type": "code",
   "execution_count": null,
   "id": "17d1fa89-014a-4308-9bbf-69e742207254",
   "metadata": {},
   "outputs": [],
   "source": []
  }
 ],
 "metadata": {
  "kernelspec": {
   "display_name": "Python 3",
   "language": "python",
   "name": "python3"
  },
  "language_info": {
   "codemirror_mode": {
    "name": "ipython",
    "version": 3
   },
   "file_extension": ".py",
   "mimetype": "text/x-python",
   "name": "python",
   "nbconvert_exporter": "python",
   "pygments_lexer": "ipython3",
   "version": "3.10.12"
  }
 },
 "nbformat": 4,
 "nbformat_minor": 5
}
